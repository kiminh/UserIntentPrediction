{
 "cells": [
  {
   "cell_type": "code",
   "execution_count": 3,
   "metadata": {},
   "outputs": [],
   "source": [
    "import random"
   ]
  },
  {
   "cell_type": "code",
   "execution_count": 4,
   "metadata": {},
   "outputs": [],
   "source": [
    "all_file = 'data/msdialog/all.tsv'\n",
    "gt = 'data/msdialog/ground_truth.tsv'"
   ]
  },
  {
   "cell_type": "code",
   "execution_count": 5,
   "metadata": {},
   "outputs": [],
   "source": [
    "combo_dict = {}\n",
    "with open(all_file) as fin:\n",
    "    for line in fin:\n",
    "        if line != '\\n':\n",
    "            tokens = line.strip().split('\\t')\n",
    "            labels = tokens[0]\n",
    "            \n",
    "            labels = labels.split('_')\n",
    "            if len(labels) > 1 and 'GG' in labels:\n",
    "                labels.remove('GG')\n",
    "            if len(labels) > 1 and 'O' in labels:\n",
    "                labels.remove('O')\n",
    "            if len(labels) > 1 and 'JK' in labels:\n",
    "                labels.remove('JK')\n",
    "            \n",
    "            labels = '_'.join(sorted(labels))\n",
    "            \n",
    "            combo_dict[labels] = combo_dict.setdefault(labels, 0) + 1"
   ]
  },
  {
   "cell_type": "code",
   "execution_count": 6,
   "metadata": {},
   "outputs": [],
   "source": [
    "sorted_combos = sorted(combo_dict.items(), key=lambda x: x[1], reverse=True)\n",
    "label_dict = {item[0]: 1 for item in sorted_combos[:32]}"
   ]
  },
  {
   "cell_type": "code",
   "execution_count": 7,
   "metadata": {},
   "outputs": [],
   "source": [
    "label_set = set()\n",
    "with open(all_file) as fin, open(gt, 'w') as fout:\n",
    "    for line in fin:\n",
    "        if line != '\\n':\n",
    "            tokens = line.strip().split('\\t')\n",
    "            labels = tokens[0]\n",
    "            utterance = tokens[1]\n",
    "            uoa = tokens[2]\n",
    "            \n",
    "            labels = labels.split('_')\n",
    "            if len(labels) > 1 and 'GG' in labels:\n",
    "                labels.remove('GG')\n",
    "            if len(labels) > 1 and 'O' in labels:\n",
    "                labels.remove('O')\n",
    "            if len(labels) > 1 and 'JK' in labels:\n",
    "                labels.remove('JK')\n",
    "            \n",
    "            labels = '_'.join(sorted(labels))\n",
    "            if labels not in label_dict:\n",
    "                labels = labels.split('_')\n",
    "                labels = random.choice(labels)\n",
    "            label_set.add(labels)\n",
    "            fout.write('{}\\t{}\\t{}\\n'.format(labels, utterance, uoa))\n",
    "        else:\n",
    "            fout.write('\\n')\n"
   ]
  },
  {
   "cell_type": "code",
   "execution_count": 8,
   "metadata": {},
   "outputs": [
    {
     "data": {
      "text/plain": [
       "33"
      ]
     },
     "execution_count": 8,
     "metadata": {},
     "output_type": "execute_result"
    }
   ],
   "source": [
    "len(label_set)"
   ]
  },
  {
   "cell_type": "code",
   "execution_count": null,
   "metadata": {},
   "outputs": [],
   "source": []
  }
 ],
 "metadata": {
  "kernelspec": {
   "display_name": "Python 3",
   "language": "python",
   "name": "python3"
  },
  "language_info": {
   "codemirror_mode": {
    "name": "ipython",
    "version": 3
   },
   "file_extension": ".py",
   "mimetype": "text/x-python",
   "name": "python",
   "nbconvert_exporter": "python",
   "pygments_lexer": "ipython3",
   "version": "3.4.5"
  }
 },
 "nbformat": 4,
 "nbformat_minor": 2
}

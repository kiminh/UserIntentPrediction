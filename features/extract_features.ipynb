{
 "cells": [
  {
   "cell_type": "code",
   "execution_count": 1,
   "metadata": {},
   "outputs": [],
   "source": [
    "# extract features from train/valid/test files"
   ]
  },
  {
   "cell_type": "code",
   "execution_count": 2,
   "metadata": {},
   "outputs": [],
   "source": [
    "from pprint import pprint\n",
    "from features.cosine_similarity import cosine_similarity\n",
    "from features.content_features import *\n",
    "from features.user_features import *\n",
    "from features.structural_features import *\n",
    "from features.sentiment_features import *\n",
    "from data_helper import *"
   ]
  },
  {
   "cell_type": "code",
   "execution_count": 3,
   "metadata": {},
   "outputs": [],
   "source": [
    "train_file = '../data/msdialog/train.tsv'\n",
    "valid_file = '../data/msdialog/valid.tsv'\n",
    "test_file = '../data/msdialog/test.tsv'"
   ]
  },
  {
   "cell_type": "code",
   "execution_count": 4,
   "metadata": {},
   "outputs": [],
   "source": [
    "idf_file = 'data/idf.tsv'\n",
    "\n",
    "train_feat_file = '../data/msdialog/train_features.tsv'\n",
    "valid_feat_file = '../data/msdialog/valid_features.tsv'\n",
    "test_feat_file = '../data/msdialog/test_features.tsv'\n",
    "\n",
    "pos_file = 'data/positive-words.txt'\n",
    "neg_file = 'data/negative-words.txt'\n",
    "term_to_idf_dict = init_tf_idf_dict(idf_file)\n",
    "pos_dict, neg_dict = load_sentiment_lexicon(pos_file, neg_file)"
   ]
  },
  {
   "cell_type": "code",
   "execution_count": 5,
   "metadata": {},
   "outputs": [],
   "source": [
    "for in_file, out_file in zip([train_file, valid_file, test_file], [train_feat_file, valid_feat_file, test_feat_file]):\n",
    "    with open(in_file) as fin, open(out_file, 'w') as fout:\n",
    "        utterances = []\n",
    "        labels = []\n",
    "        uoas = []\n",
    "        for line in fin:\n",
    "            if line != '\\n':\n",
    "                tokens = line.strip().split('\\t')\n",
    "                labels.append(tokens[0])\n",
    "                utterances.append(tokens[1])\n",
    "                uoas.append(tokens[2])\n",
    "            else:\n",
    "                # extract features\n",
    "                \n",
    "                # content based features\n",
    "                _, init_sim, thread_sim = cosine_similarity(\"\", utterances, term_to_idf_dict)\n",
    "                qm = question_mark(utterances)\n",
    "                dup = duplicate(utterances)\n",
    "                wh = W5H1(utterances)\n",
    "\n",
    "                # structural features\n",
    "                abs_pos = [idx + 1 for idx in range(len(utterances))]\n",
    "                norm_pos = [pos / len(utterances) for pos in abs_pos]\n",
    "                length, unique_length, unique_stemmed_length = post_length(utterances)\n",
    "\n",
    "                # user features\n",
    "#                 ua = user_auth(affiliations)\n",
    "                is_starter = [1 if uoa == 'User' else 0 for uoa in uoas]\n",
    "\n",
    "                # sentiment based features\n",
    "                thx = thank(utterances)\n",
    "                exclam_mark = exclamation_mark(utterances)\n",
    "                vf = ve_feedback(utterances)\n",
    "                ss = sentiment_scores(utterances)\n",
    "                lexicon_counts = lexicon(utterances, pos_dict, neg_dict)\n",
    "                \n",
    "                # write to file\n",
    "                for i, utterance in enumerate(utterances):\n",
    "#                     try:\n",
    "                    fout.write('{}\\t{:.4f} {:.4f} {} {} {} {} {:.4f} {} {} {} {} {} {} {} {} {}\\n'.format(\n",
    "                        labels[i],\n",
    "                        init_sim[i],\n",
    "                        thread_sim[i],\n",
    "                        qm[i],\n",
    "                        dup[i],\n",
    "                        ' '.join(wh[i]),\n",
    "                        abs_pos[i],\n",
    "                        norm_pos[i],\n",
    "                        length[i],\n",
    "                        unique_length[i],\n",
    "                        unique_stemmed_length[i],\n",
    "                        is_starter[i],\n",
    "                        thx[i],\n",
    "                        exclam_mark[i],\n",
    "                        vf[i],\n",
    "                        ' '.join(ss[i]),\n",
    "                        ' '.join(lexicon_counts[i]),\n",
    "                    ))\n",
    "#                     except:\n",
    "#                         print(utterance)\n",
    "                        \n",
    "                fout.write('\\n')\n",
    "                utterances = []\n",
    "                labels = []\n",
    "                uoas = []"
   ]
  }
 ],
 "metadata": {
  "kernelspec": {
   "display_name": "Python 3",
   "language": "python",
   "name": "python3"
  },
  "language_info": {
   "codemirror_mode": {
    "name": "ipython",
    "version": 3
   },
   "file_extension": ".py",
   "mimetype": "text/x-python",
   "name": "python",
   "nbconvert_exporter": "python",
   "pygments_lexer": "ipython3",
   "version": "3.4.5"
  }
 },
 "nbformat": 4,
 "nbformat_minor": 2
}

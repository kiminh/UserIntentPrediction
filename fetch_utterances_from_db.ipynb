{
 "cells": [
  {
   "cell_type": "code",
   "execution_count": 3,
   "metadata": {},
   "outputs": [],
   "source": [
    "from data_helper import *"
   ]
  },
  {
   "cell_type": "code",
   "execution_count": 4,
   "metadata": {},
   "outputs": [],
   "source": [
    "all_file = 'data/msdialog/all.tsv'"
   ]
  },
  {
   "cell_type": "code",
   "execution_count": 5,
   "metadata": {},
   "outputs": [],
   "source": [
    "conn_title = connect_db()\n",
    "conn_utter = connect_db()\n",
    "\n",
    "sql_title = 'select dialog_id from titles_final'\n",
    "sql_utter = 'select utterance, tags, user_or_agent from contents_final where dialog_id=\"{0}\"'\n",
    "\n",
    "with conn_title.cursor() as cursor_title, conn_utter.cursor() as cursor_utter, open(all_file, 'w') as fout:\n",
    "    cursor_title.execute(sql_title)\n",
    "    count = 0\n",
    "    while True:\n",
    "        count += 1\n",
    "        row_title = cursor_title.fetchone()\n",
    "        if row_title == None:\n",
    "            break\n",
    "        dialog_id = row_title['dialog_id']\n",
    "\n",
    "        cursor_utter.execute(sql_utter.format(dialog_id))\n",
    "        contents = cursor_utter.fetchall()\n",
    "\n",
    "        label_strs = [content['tags'].strip() for content in contents]\n",
    "        utterances = list(map(clean_str, [content['utterance'] for content in contents]))\n",
    "        uoas = [content['user_or_agent'].strip() for content in contents]\n",
    "        \n",
    "        targets = []\n",
    "        for label_str in label_strs:\n",
    "            labels = label_str.split()\n",
    "            label = '_'.join(sorted(labels))\n",
    "            targets.append(label)\n",
    "        \n",
    "        for utterance, target, uoa in zip(utterances, targets, uoas):\n",
    "            fout.write('{}\\t{}\\t{}\\n'.format(target, utterance, uoa))\n",
    "#             fout.write('O\\t__eot__\\n')\n",
    "#         fout.write('O\\t__eod__\\n\\n')\n",
    "        fout.write('\\n')"
   ]
  },
  {
   "cell_type": "code",
   "execution_count": null,
   "metadata": {},
   "outputs": [],
   "source": []
  },
  {
   "cell_type": "code",
   "execution_count": null,
   "metadata": {},
   "outputs": [],
   "source": [
    "# get label combo distribution"
   ]
  },
  {
   "cell_type": "code",
   "execution_count": 3,
   "metadata": {},
   "outputs": [],
   "source": [
    "combo_dict = {}\n",
    "with open(all_file) as fin:\n",
    "    for line in fin:\n",
    "        if line != '\\n':\n",
    "            tokens = line.strip().split('\\t')\n",
    "            labels = tokens[0]\n",
    "            \n",
    "            labels = labels.split('_')\n",
    "            if len(labels) > 1 and 'GG' in labels:\n",
    "                labels.remove('GG')\n",
    "            if len(labels) > 1 and 'O' in labels:\n",
    "                labels.remove('O')\n",
    "            if len(labels) > 1 and 'JK' in labels:\n",
    "                labels.remove('JK')\n",
    "            \n",
    "            labels = '_'.join(sorted(labels))\n",
    "            \n",
    "            combo_dict[labels] = combo_dict.setdefault(labels, 0) + 1"
   ]
  },
  {
   "cell_type": "code",
   "execution_count": 8,
   "metadata": {},
   "outputs": [
    {
     "name": "stdout",
     "output_type": "stream",
     "text": [
      "152\n",
      "10027\n"
     ]
    }
   ],
   "source": [
    "print(len(combo_dict))\n",
    "print(sum(combo_dict.values()))"
   ]
  },
  {
   "cell_type": "code",
   "execution_count": 17,
   "metadata": {},
   "outputs": [
    {
     "name": "stdout",
     "output_type": "stream",
     "text": [
      "0.9033609255011469\n"
     ]
    },
    {
     "data": {
      "text/plain": [
       "[('PA', 2482),\n",
       " ('OQ', 1868),\n",
       " ('PF', 559),\n",
       " ('FD_PA', 524),\n",
       " ('FD', 500),\n",
       " ('IR_PA', 372),\n",
       " ('GG', 346),\n",
       " ('FD_PF', 207),\n",
       " ('FD_NF', 198),\n",
       " ('FD_OQ', 169),\n",
       " ('IR', 165),\n",
       " ('RQ', 154),\n",
       " ('NF', 140),\n",
       " ('FD_FQ', 137),\n",
       " ('CQ_FD', 116),\n",
       " ('FQ', 101),\n",
       " ('PA_PF', 98),\n",
       " ('JK', 92),\n",
       " ('FD_RQ', 87),\n",
       " ('CQ_IR', 81),\n",
       " ('CQ_IR_PA', 77),\n",
       " ('FQ_RQ', 71),\n",
       " ('CQ_PA', 62),\n",
       " ('FQ_IR', 58),\n",
       " ('CQ_FQ', 55),\n",
       " ('FD_IR', 54),\n",
       " ('NF_OQ', 53),\n",
       " ('FD_IR_PA', 49),\n",
       " ('OQ_RQ', 49),\n",
       " ('IR_OQ', 48),\n",
       " ('FD_FQ_NF', 44),\n",
       " ('CQ', 42)]"
      ]
     },
     "execution_count": 17,
     "metadata": {},
     "output_type": "execute_result"
    }
   ],
   "source": [
    "sorted_combos = sorted(combo_dict.items(), key=lambda x: x[1], reverse=True)\n",
    "print(sum([item[1] for item in sorted_combos[:32]]) / sum(combo_dict.values()))\n",
    "\n",
    "sorted_combos[:32]"
   ]
  },
  {
   "cell_type": "code",
   "execution_count": 7,
   "metadata": {},
   "outputs": [
    {
     "data": {
      "image/png": "[encoded data removed]",
      "text/plain": [
       "<matplotlib.figure.Figure at 0x7f6df81d0208>"
      ]
     },
     "metadata": {},
     "output_type": "display_data"
    }
   ],
   "source": [
    "import matplotlib.pyplot as plt\n",
    "\n",
    "plt.bar(range(len(sorted_combos)), [item[1] for item in sorted_combos], align='center')\n",
    "# plt.xticks(range(len(D)), list(D.keys()))\n",
    "# plt.xlim(0, 20)\n",
    "\n",
    "plt.show()"
   ]
  },
  {
   "cell_type": "code",
   "execution_count": 30,
   "metadata": {},
   "outputs": [
    {
     "data": {
      "image/png": "[encoded data removed]",
      "text/plain": [
       "<matplotlib.figure.Figure at 0x7f6d89bee7b8>"
      ]
     },
     "metadata": {},
     "output_type": "display_data"
    }
   ],
   "source": [
    "import matplotlib.pyplot as plt\n",
    "\n",
    "sorted_combo_incre = []\n",
    "for i in range(len(sorted_combos)):\n",
    "    sorted_combo_incre.append(sum([item[1] for item in sorted_combos[:i]]) / 10027)\n",
    "\n",
    "plt.plot(range(len(sorted_combos)), sorted_combo_incre)\n",
    "plt.show()"
   ]
  },
  {
   "cell_type": "code",
   "execution_count": null,
   "metadata": {},
   "outputs": [],
   "source": []
  },
  {
   "cell_type": "code",
   "execution_count": null,
   "metadata": {},
   "outputs": [],
   "source": []
  }
 ],
 "metadata": {
  "kernelspec": {
   "display_name": "Python 2",
   "language": "python",
   "name": "python2"
  },
  "language_info": {
   "codemirror_mode": {
    "name": "ipython",
    "version": 2
   },
   "file_extension": ".py",
   "mimetype": "text/x-python",
   "name": "python",
   "nbconvert_exporter": "python",
   "pygments_lexer": "ipython2",
   "version": "2.7.13"
  }
 },
 "nbformat": 4,
 "nbformat_minor": 2
}
